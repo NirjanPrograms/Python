{
 "cells": [
  {
   "cell_type": "markdown",
   "id": "4df430ea",
   "metadata": {},
   "source": [
    "# Zeors Array"
   ]
  },
  {
   "cell_type": "code",
   "execution_count": 3,
   "id": "2e5bb608",
   "metadata": {},
   "outputs": [
    {
     "name": "stdout",
     "output_type": "stream",
     "text": [
      "[0. 0. 0. 0.]\n",
      "\n",
      "[[0. 0. 0. 0.]\n",
      " [0. 0. 0. 0.]\n",
      " [0. 0. 0. 0.]]\n"
     ]
    }
   ],
   "source": [
    "import numpy as np\n",
    "\n",
    "#Zeors array of 1 dimention\n",
    "arr = np.zeros(4)\n",
    "print(arr)\n",
    "\n",
    "print()\n",
    "#Zeors array of 2 dimention\n",
    "arr = np.zeros((3,4))\n",
    "print(arr)"
   ]
  },
  {
   "cell_type": "markdown",
   "id": "6cc36d80",
   "metadata": {},
   "source": [
    "# Ones Array"
   ]
  },
  {
   "cell_type": "code",
   "execution_count": 5,
   "id": "370cb776",
   "metadata": {},
   "outputs": [
    {
     "name": "stdout",
     "output_type": "stream",
     "text": [
      "[1. 1. 1. 1.]\n",
      "\n",
      "[[1. 1. 1. 1.]\n",
      " [1. 1. 1. 1.]\n",
      " [1. 1. 1. 1.]]\n"
     ]
    }
   ],
   "source": [
    "#Ones array of 1 dimention\n",
    "arr1 = np.ones(4)\n",
    "print(arr1)\n",
    "\n",
    "print()\n",
    "#Ones array of 2 dimention\n",
    "arr1 = np.ones((3,4))\n",
    "print(arr1)"
   ]
  },
  {
   "cell_type": "markdown",
   "id": "7d5aa98f",
   "metadata": {},
   "source": [
    "# Empty Array\n",
    "\n",
    "Empty array is an array in python which consists either a null value or no element"
   ]
  },
  {
   "cell_type": "code",
   "execution_count": 7,
   "id": "611b8217",
   "metadata": {},
   "outputs": [
    {
     "name": "stdout",
     "output_type": "stream",
     "text": [
      "[6.23042070e-307 4.67296746e-307 1.69121096e-306 1.41243347e-311\n",
      " 0.00000000e+000]\n",
      "\n",
      "[[0. 0. 0. 0. 0.]\n",
      " [0. 0. 0. 0. 0.]\n",
      " [0. 0. 0. 0. 0.]]\n"
     ]
    }
   ],
   "source": [
    "arr2 = np.empty(5)\n",
    "print(arr2)\n",
    "print()\n",
    "arr2 = np.empty((3,5))\n",
    "print(arr2)"
   ]
  },
  {
   "cell_type": "markdown",
   "id": "a1bd3a79",
   "metadata": {},
   "source": [
    "# Range Array\n",
    "\n",
    "Range array is an another type of array in python, which stores values in array starting from 0 (by default) and increments by 1 (by default) and stops before a specified number. We use arange function to create a range array.\n",
    "\n",
    "arange Function Declaration:\n",
    "       arange(arg1: Start Value [Optional](by Default:0), arg2: End Value[Required], arg3: Step Size [Optional](by Default:1))"
   ]
  },
  {
   "cell_type": "code",
   "execution_count": 13,
   "id": "92e7f4fa",
   "metadata": {},
   "outputs": [
    {
     "name": "stdout",
     "output_type": "stream",
     "text": [
      "[0 1 2 3 4]\n",
      "\n",
      "[3 4 5 6 7 8]\n",
      "\n",
      "[1 3 5 7 9]\n"
     ]
    }
   ],
   "source": [
    "arr3 = np.arange(5)\n",
    "print(arr3)\n",
    "print()\n",
    "\n",
    "arr3 = np.arange(3,9)\n",
    "print(arr3)\n",
    "print()\n",
    "\n",
    "arr3 = np.arange(1,10,2)\n",
    "print(arr3)"
   ]
  },
  {
   "cell_type": "markdown",
   "id": "9ebfd4c7",
   "metadata": {},
   "source": [
    "# Diagonal Array\n",
    "\n",
    "Diagonal Array is similar to Identity Matrix, whereas the all diagonal elements are 1. We use eye function to create a diagonal array.\n",
    "\n",
    "eye Function Declaration:\n",
    "    "
   ]
  },
  {
   "cell_type": "code",
   "execution_count": 15,
   "id": "496d55cf",
   "metadata": {},
   "outputs": [
    {
     "name": "stdout",
     "output_type": "stream",
     "text": [
      "[[1. 0. 0.]\n",
      " [0. 1. 0.]\n",
      " [0. 0. 1.]]\n",
      "\n",
      "[[1. 0. 0. 0. 0.]\n",
      " [0. 1. 0. 0. 0.]\n",
      " [0. 0. 1. 0. 0.]]\n"
     ]
    }
   ],
   "source": [
    "#Square Matrix\n",
    "arr4 = np.eye(3)\n",
    "print(arr4)\n",
    "print()\n",
    "\n",
    "#Rectangular Matrix\n",
    "arr4 = np.eye(3,5)\n",
    "print(arr4)"
   ]
  },
  {
   "cell_type": "markdown",
   "id": "6b777e24",
   "metadata": {},
   "source": [
    "# linspace Method\n",
    "\n",
    "linspace method Declaration:\n",
    "    linspace(arg1: Start Value[Required], arg2: End Value[Required], arg3: length of Array[Optional](by Default: 50))"
   ]
  },
  {
   "cell_type": "code",
   "execution_count": 20,
   "id": "78675e75",
   "metadata": {},
   "outputs": [
    {
     "name": "stdout",
     "output_type": "stream",
     "text": [
      "[  0.           2.04081633   4.08163265   6.12244898   8.16326531\n",
      "  10.20408163  12.24489796  14.28571429  16.32653061  18.36734694\n",
      "  20.40816327  22.44897959  24.48979592  26.53061224  28.57142857\n",
      "  30.6122449   32.65306122  34.69387755  36.73469388  38.7755102\n",
      "  40.81632653  42.85714286  44.89795918  46.93877551  48.97959184\n",
      "  51.02040816  53.06122449  55.10204082  57.14285714  59.18367347\n",
      "  61.2244898   63.26530612  65.30612245  67.34693878  69.3877551\n",
      "  71.42857143  73.46938776  75.51020408  77.55102041  79.59183673\n",
      "  81.63265306  83.67346939  85.71428571  87.75510204  89.79591837\n",
      "  91.83673469  93.87755102  95.91836735  97.95918367 100.        ]\n",
      "\n",
      "[ 1.    3.25  5.5   7.75 10.  ]\n"
     ]
    }
   ],
   "source": [
    "arr5 = np.linspace(0, 100)\n",
    "print(arr5)\n",
    "print()\n",
    "\n",
    "arr5 = np.linspace(1, 10,5)\n",
    "print(arr5)"
   ]
  }
 ],
 "metadata": {
  "kernelspec": {
   "display_name": "Python 3 (ipykernel)",
   "language": "python",
   "name": "python3"
  },
  "language_info": {
   "codemirror_mode": {
    "name": "ipython",
    "version": 3
   },
   "file_extension": ".py",
   "mimetype": "text/x-python",
   "name": "python",
   "nbconvert_exporter": "python",
   "pygments_lexer": "ipython3",
   "version": "3.9.12"
  }
 },
 "nbformat": 4,
 "nbformat_minor": 5
}
