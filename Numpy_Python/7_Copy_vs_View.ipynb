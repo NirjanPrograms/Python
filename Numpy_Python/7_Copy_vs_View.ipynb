{
 "cells": [
  {
   "cell_type": "markdown",
   "id": "68afdfbf",
   "metadata": {},
   "source": [
    "# Copy vs View in NumPy"
   ]
  },
  {
   "cell_type": "markdown",
   "id": "7a06b66c",
   "metadata": {},
   "source": [
    "## Copy\n",
    "\n",
    "1. The copy of an array is a completely new array.\n",
    "2. The copy owns the data.\n",
    "3. The changes made in the copy array will not affect on the original array and any changes made in the original array will not affect on the copy array\n",
    "4. This is also known as deep copy"
   ]
  },
  {
   "cell_type": "code",
   "execution_count": 2,
   "id": "6e55d661",
   "metadata": {},
   "outputs": [
    {
     "name": "stdout",
     "output_type": "stream",
     "text": [
      "arr:  [1 2 3 4]\n",
      "arr1:  [1 2 3 4]\n",
      "arr2:  [1 2 3 4]\n",
      "\n",
      "arr:  [10  2  3  4]\n",
      "arr1:  [ 1  2 20  4]\n"
     ]
    }
   ],
   "source": [
    "import numpy as np\n",
    "\n",
    "arr = np.array([1,2,3,4])\n",
    "arr1 = np.copy(arr)\n",
    "arr2 = arr.copy()\n",
    "print(\"arr: \",arr)\n",
    "print(\"arr1: \",arr1)\n",
    "print(\"arr2: \",arr2)\n",
    "\n",
    "print()\n",
    "\n",
    "arr[0] = 10\n",
    "arr1[2] = 20\n",
    "print(\"arr: \",arr)\n",
    "print(\"arr1: \",arr1)"
   ]
  },
  {
   "cell_type": "markdown",
   "id": "6d16e451",
   "metadata": {},
   "source": [
    "## View\n",
    "\n",
    "1. The view is just a view of original array.\n",
    "2. The view doesn't owns the data.\n",
    "3. The changes made in the view array will affect on the original array and any changes made in the original array will affect on the view array\n",
    "4. This is also known as shallow copy\n",
    "\n",
    "In NumPy module there are no module are present named as 'view'. So when we use numpy.view(Array_Name), we get an error message which is an AttributeError."
   ]
  },
  {
   "cell_type": "code",
   "execution_count": 3,
   "id": "d33468e1",
   "metadata": {},
   "outputs": [
    {
     "name": "stdout",
     "output_type": "stream",
     "text": [
      "arr:  [1 2 3 4]\n",
      "arr1:  [1 2 3 4]\n",
      "\n",
      "arr:  [10  2 20  4]\n",
      "arr1:  [10  2 20  4]\n"
     ]
    },
    {
     "ename": "AttributeError",
     "evalue": "module 'numpy' has no attribute 'view'",
     "output_type": "error",
     "traceback": [
      "\u001b[1;31m---------------------------------------------------------------------------\u001b[0m",
      "\u001b[1;31mAttributeError\u001b[0m                            Traceback (most recent call last)",
      "Input \u001b[1;32mIn [3]\u001b[0m, in \u001b[0;36m<cell line: 13>\u001b[1;34m()\u001b[0m\n\u001b[0;32m     10\u001b[0m \u001b[38;5;28mprint\u001b[39m(\u001b[38;5;124m\"\u001b[39m\u001b[38;5;124marr: \u001b[39m\u001b[38;5;124m\"\u001b[39m,arr)\n\u001b[0;32m     11\u001b[0m \u001b[38;5;28mprint\u001b[39m(\u001b[38;5;124m\"\u001b[39m\u001b[38;5;124marr1: \u001b[39m\u001b[38;5;124m\"\u001b[39m,arr1)\n\u001b[1;32m---> 13\u001b[0m arr2 \u001b[38;5;241m=\u001b[39m \u001b[43mnp\u001b[49m\u001b[38;5;241;43m.\u001b[39;49m\u001b[43mview\u001b[49m(arr)\n",
      "File \u001b[1;32m~\\anaconda3\\lib\\site-packages\\numpy\\__init__.py:313\u001b[0m, in \u001b[0;36m__getattr__\u001b[1;34m(attr)\u001b[0m\n\u001b[0;32m    310\u001b[0m     \u001b[38;5;28;01mfrom\u001b[39;00m \u001b[38;5;21;01m.\u001b[39;00m\u001b[38;5;21;01mtesting\u001b[39;00m \u001b[38;5;28;01mimport\u001b[39;00m Tester\n\u001b[0;32m    311\u001b[0m     \u001b[38;5;28;01mreturn\u001b[39;00m Tester\n\u001b[1;32m--> 313\u001b[0m \u001b[38;5;28;01mraise\u001b[39;00m \u001b[38;5;167;01mAttributeError\u001b[39;00m(\u001b[38;5;124m\"\u001b[39m\u001b[38;5;124mmodule \u001b[39m\u001b[38;5;132;01m{!r}\u001b[39;00m\u001b[38;5;124m has no attribute \u001b[39m\u001b[38;5;124m\"\u001b[39m\n\u001b[0;32m    314\u001b[0m                      \u001b[38;5;124m\"\u001b[39m\u001b[38;5;132;01m{!r}\u001b[39;00m\u001b[38;5;124m\"\u001b[39m\u001b[38;5;241m.\u001b[39mformat(\u001b[38;5;18m__name__\u001b[39m, attr))\n",
      "\u001b[1;31mAttributeError\u001b[0m: module 'numpy' has no attribute 'view'"
     ]
    }
   ],
   "source": [
    "arr = np.array([1,2,3,4])\n",
    "arr1 = arr.view()\n",
    "print(\"arr: \",arr)\n",
    "print(\"arr1: \",arr1)\n",
    "\n",
    "print()\n",
    "\n",
    "arr[0] = 10\n",
    "arr1[2] = 20\n",
    "print(\"arr: \",arr)\n",
    "print(\"arr1: \",arr1)\n",
    "\n",
    "arr2 = np.view(arr)"
   ]
  },
  {
   "cell_type": "markdown",
   "id": "43459cec",
   "metadata": {},
   "source": [
    "# Check if an array owns its data\n",
    "\n",
    "Every NumPy array has the attribute base that returns 'None' if the array owns the data else 'base' attributes returns the original object.\n",
    "\n",
    "> The copy returns None                                      \n",
    "> The view returns orinal array"
   ]
  },
  {
   "cell_type": "code",
   "execution_count": 4,
   "id": "bed13db6",
   "metadata": {},
   "outputs": [
    {
     "name": "stdout",
     "output_type": "stream",
     "text": [
      "None\n",
      "[1 2 3 4 5]\n"
     ]
    }
   ],
   "source": [
    "arr = np.array([1, 2, 3, 4, 5])\n",
    "\n",
    "x = arr.copy()\n",
    "y = arr.view()\n",
    "\n",
    "print(x.base)\n",
    "print(y.base)"
   ]
  }
 ],
 "metadata": {
  "kernelspec": {
   "display_name": "Python 3 (ipykernel)",
   "language": "python",
   "name": "python3"
  },
  "language_info": {
   "codemirror_mode": {
    "name": "ipython",
    "version": 3
   },
   "file_extension": ".py",
   "mimetype": "text/x-python",
   "name": "python",
   "nbconvert_exporter": "python",
   "pygments_lexer": "ipython3",
   "version": "3.9.12"
  }
 },
 "nbformat": 4,
 "nbformat_minor": 5
}
