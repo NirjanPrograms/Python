{
 "cells": [
  {
   "cell_type": "markdown",
   "id": "fba2b450",
   "metadata": {},
   "source": [
    "# Shape & Reshape in NumPy"
   ]
  },
  {
   "cell_type": "markdown",
   "id": "b3eb6aae",
   "metadata": {},
   "source": [
    "# Shape\n",
    "\n",
    "In the NumPy module, 'shape' attribute is used to determine the dimensions of an array. It provides information about the size of each dimension along with the total number of dimensions in the array. The 'shape' attribute is particularly useful for understanding the structure and size of a NumPy array."
   ]
  },
  {
   "cell_type": "code",
   "execution_count": 1,
   "id": "2d5c3b01",
   "metadata": {},
   "outputs": [
    {
     "name": "stdout",
     "output_type": "stream",
     "text": [
      "[[1 2]\n",
      " [5 6]]\n",
      "\n",
      "(2, 2)\n",
      "\n",
      "[[1 2 3 4]\n",
      " [4 5 6 7]]\n",
      "\n",
      "(2, 4)\n"
     ]
    }
   ],
   "source": [
    "import numpy as np\n",
    "\n",
    "arr = np.array([[1,2],[5,6]])\n",
    "print(arr)\n",
    "print()\n",
    "print(arr.shape)\n",
    "\n",
    "print()\n",
    "\n",
    "arr = np.array([[1,2,3,4],[4,5,6,7]])\n",
    "print(arr)\n",
    "print()\n",
    "print(arr.shape)"
   ]
  },
  {
   "cell_type": "markdown",
   "id": "73224e63",
   "metadata": {},
   "source": [
    "## Difference between ndim & shape attribute\n",
    "\n",
    "> 'ndim' tells the number of dimensions of the array, whereas 'shape' tells the number of elements of each dimensions."
   ]
  },
  {
   "cell_type": "code",
   "execution_count": 2,
   "id": "b7ac3854",
   "metadata": {},
   "outputs": [
    {
     "name": "stdout",
     "output_type": "stream",
     "text": [
      "[[[[[1 2 3 4]]]]]\n",
      "5\n",
      "(1, 1, 1, 1, 4)\n"
     ]
    }
   ],
   "source": [
    "arr = np.array([1,2,3,4], ndmin = 5)\n",
    "print(arr)\n",
    "print(arr.ndim)\n",
    "print(arr.shape)"
   ]
  },
  {
   "cell_type": "markdown",
   "id": "9b542f29",
   "metadata": {},
   "source": [
    "# Reshape\n",
    "\n",
    "Reshaping means change the number of dimension of an array. By reshaping we can add or remove dimensions of an array or change number of elements of each dimensions."
   ]
  },
  {
   "cell_type": "code",
   "execution_count": 3,
   "id": "5fb89ad4",
   "metadata": {},
   "outputs": [
    {
     "name": "stdout",
     "output_type": "stream",
     "text": [
      "[1 2 3 4 5 6 7 8]\n",
      "1\n",
      "\n",
      "[[1 2 3 4]\n",
      " [5 6 7 8]]\n",
      "2\n"
     ]
    }
   ],
   "source": [
    "#Reshape form 1D to 2D\n",
    "\n",
    "arr = np.array([1,2,3,4,5,6,7,8])\n",
    "print(arr)\n",
    "print(arr.ndim)\n",
    "\n",
    "print()\n",
    "arr1 = arr.reshape(2,4)\n",
    "print(arr1)\n",
    "print(arr1.ndim)"
   ]
  },
  {
   "cell_type": "code",
   "execution_count": 4,
   "id": "132af46d",
   "metadata": {},
   "outputs": [
    {
     "name": "stdout",
     "output_type": "stream",
     "text": [
      "[ 1  2  3  4  5  6  7  8  9 10 11 12]\n",
      "1\n",
      "(12,)\n",
      "\n",
      "[[[ 1  2]\n",
      "  [ 3  4]\n",
      "  [ 5  6]]\n",
      "\n",
      " [[ 7  8]\n",
      "  [ 9 10]\n",
      "  [11 12]]]\n",
      "3\n",
      "(2, 3, 2)\n"
     ]
    }
   ],
   "source": [
    "#Reshape form 1D to 3D\n",
    "\n",
    "arr = np.array([1,2,3,4,5,6,7,8,9,10,11,12])\n",
    "print(arr)\n",
    "print(arr.ndim)\n",
    "print(arr.shape)\n",
    "\n",
    "print()\n",
    "arr1 = arr.reshape(2,3,2)\n",
    "print(arr1)\n",
    "print(arr1.ndim)\n",
    "print(arr1.shape)"
   ]
  },
  {
   "cell_type": "markdown",
   "id": "c4156001",
   "metadata": {},
   "source": [
    "## Can We Reshape Into any Shape?\n",
    "\n",
    "Yes, as long as the elements required for reshaping are equal in both shapes.\n",
    "\n",
    "We can reshape an 8 elements 1D array into 4 elements in 2 rows 2D array but we cannot reshape it into a 3 elements 3 rows 2D array as that would require 3x3 = 9 elements."
   ]
  },
  {
   "cell_type": "code",
   "execution_count": 5,
   "id": "bc769334",
   "metadata": {},
   "outputs": [
    {
     "name": "stdout",
     "output_type": "stream",
     "text": [
      "[[1 2 3 4]\n",
      " [5 6 7 8]]\n",
      "\n"
     ]
    },
    {
     "ename": "ValueError",
     "evalue": "cannot reshape array of size 8 into shape (3,3)",
     "output_type": "error",
     "traceback": [
      "\u001b[1;31m---------------------------------------------------------------------------\u001b[0m",
      "\u001b[1;31mValueError\u001b[0m                                Traceback (most recent call last)",
      "Input \u001b[1;32mIn [5]\u001b[0m, in \u001b[0;36m<cell line: 5>\u001b[1;34m()\u001b[0m\n\u001b[0;32m      3\u001b[0m \u001b[38;5;28mprint\u001b[39m(arr\u001b[38;5;241m.\u001b[39mreshape(\u001b[38;5;241m2\u001b[39m,\u001b[38;5;241m4\u001b[39m))\n\u001b[0;32m      4\u001b[0m \u001b[38;5;28mprint\u001b[39m()\n\u001b[1;32m----> 5\u001b[0m \u001b[38;5;28mprint\u001b[39m(\u001b[43marr\u001b[49m\u001b[38;5;241;43m.\u001b[39;49m\u001b[43mreshape\u001b[49m\u001b[43m(\u001b[49m\u001b[38;5;241;43m3\u001b[39;49m\u001b[43m,\u001b[49m\u001b[38;5;241;43m3\u001b[39;49m\u001b[43m)\u001b[49m)\n",
      "\u001b[1;31mValueError\u001b[0m: cannot reshape array of size 8 into shape (3,3)"
     ]
    }
   ],
   "source": [
    "arr = np.array([1,2,3,4,5,6,7,8])\n",
    "\n",
    "print(arr.reshape(2,4))\n",
    "print()\n",
    "print(arr.reshape(3,3))"
   ]
  },
  {
   "cell_type": "markdown",
   "id": "4e0f474a",
   "metadata": {},
   "source": [
    "### What type of value 'Reshape' attributes return?\n",
    "\n",
    "Check the returned array is a copy array or view array ->\n",
    "\n",
    "    using base function we can know this. If it returns none then it will copy array else it a view array."
   ]
  },
  {
   "cell_type": "code",
   "execution_count": 6,
   "id": "594e139b",
   "metadata": {},
   "outputs": [
    {
     "name": "stdout",
     "output_type": "stream",
     "text": [
      "[1 2 3 4 5 6]\n"
     ]
    }
   ],
   "source": [
    "arr = np.array([1,2,3,4,5,6])\n",
    "arr1 = arr.reshape(2,3)\n",
    "print(arr1.base)\n",
    "\n",
    "# Reshape functions returns a view array."
   ]
  },
  {
   "cell_type": "markdown",
   "id": "c96f5ad3",
   "metadata": {},
   "source": [
    "# Unknown Dimension\n",
    "\n",
    "NumPy library allows us to have one 'unknown' dimension, means we don't have to specify an exact number for one of the dimensions in the reshape method. Pass '-1' as the value, and NUmPy will calculate the value for us.                        \n",
    "\n",
    "It will raise an error if the number of elements are not matched."
   ]
  },
  {
   "cell_type": "code",
   "execution_count": 7,
   "id": "9192b125",
   "metadata": {},
   "outputs": [
    {
     "name": "stdout",
     "output_type": "stream",
     "text": [
      "[[1 2 3]\n",
      " [4 5 6]]\n",
      "\n",
      "(2, 3)\n"
     ]
    }
   ],
   "source": [
    "arr = np.array([1,2,3,4,5,6])\n",
    "\n",
    "arr1 = arr.reshape(2,-1)\n",
    "print(arr1)\n",
    "print()\n",
    "print(arr1.shape)"
   ]
  },
  {
   "cell_type": "code",
   "execution_count": 8,
   "id": "11d6fff2",
   "metadata": {},
   "outputs": [
    {
     "ename": "ValueError",
     "evalue": "cannot reshape array of size 7 into shape (2,newaxis)",
     "output_type": "error",
     "traceback": [
      "\u001b[1;31m---------------------------------------------------------------------------\u001b[0m",
      "\u001b[1;31mValueError\u001b[0m                                Traceback (most recent call last)",
      "Input \u001b[1;32mIn [8]\u001b[0m, in \u001b[0;36m<cell line: 3>\u001b[1;34m()\u001b[0m\n\u001b[0;32m      1\u001b[0m arr \u001b[38;5;241m=\u001b[39m np\u001b[38;5;241m.\u001b[39marray([\u001b[38;5;241m1\u001b[39m,\u001b[38;5;241m2\u001b[39m,\u001b[38;5;241m3\u001b[39m,\u001b[38;5;241m4\u001b[39m,\u001b[38;5;241m5\u001b[39m,\u001b[38;5;241m6\u001b[39m,\u001b[38;5;241m7\u001b[39m])\n\u001b[1;32m----> 3\u001b[0m arr1 \u001b[38;5;241m=\u001b[39m \u001b[43marr\u001b[49m\u001b[38;5;241;43m.\u001b[39;49m\u001b[43mreshape\u001b[49m\u001b[43m(\u001b[49m\u001b[38;5;241;43m2\u001b[39;49m\u001b[43m,\u001b[49m\u001b[38;5;241;43m-\u001b[39;49m\u001b[38;5;241;43m1\u001b[39;49m\u001b[43m)\u001b[49m\n\u001b[0;32m      4\u001b[0m \u001b[38;5;28mprint\u001b[39m(arr1)\n",
      "\u001b[1;31mValueError\u001b[0m: cannot reshape array of size 7 into shape (2,newaxis)"
     ]
    }
   ],
   "source": [
    "arr = np.array([1,2,3,4,5,6,7])\n",
    "\n",
    "arr1 = arr.reshape(2,-1)\n",
    "print(arr1)"
   ]
  },
  {
   "cell_type": "markdown",
   "id": "15d7af94",
   "metadata": {},
   "source": [
    "# Flattening the Arrays\n",
    "\n",
    "Flattening array means converting a multidimensional array into a 1D array.                                     \n",
    "\n",
    "We can use reshape(-1) to do this."
   ]
  },
  {
   "cell_type": "code",
   "execution_count": 9,
   "id": "c9c34e96",
   "metadata": {},
   "outputs": [
    {
     "name": "stdout",
     "output_type": "stream",
     "text": [
      "[[1 2 3]\n",
      " [4 5 6]\n",
      " [7 8 9]]\n",
      "(3, 3)\n",
      "\n",
      "[1 2 3 4 5 6 7 8 9]\n",
      "(9,)\n"
     ]
    }
   ],
   "source": [
    "arr = np.array([[1,2,3],[4,5,6],[7,8,9]])\n",
    "print(arr)\n",
    "print(arr.shape)\n",
    "\n",
    "print()\n",
    "arr1 = arr.reshape(-1)\n",
    "print(arr1)\n",
    "print(arr1.shape)"
   ]
  }
 ],
 "metadata": {
  "kernelspec": {
   "display_name": "Python 3 (ipykernel)",
   "language": "python",
   "name": "python3"
  },
  "language_info": {
   "codemirror_mode": {
    "name": "ipython",
    "version": 3
   },
   "file_extension": ".py",
   "mimetype": "text/x-python",
   "name": "python",
   "nbconvert_exporter": "python",
   "pygments_lexer": "ipython3",
   "version": "3.9.12"
  }
 },
 "nbformat": 4,
 "nbformat_minor": 5
}
