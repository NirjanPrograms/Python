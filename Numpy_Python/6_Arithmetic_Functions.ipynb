{
 "cells": [
  {
   "cell_type": "markdown",
   "id": "194c0c58",
   "metadata": {},
   "source": [
    "# Arithmetic Functions\n",
    "\n",
    "Some bulit-in functions are provided by NumPy library allow us to perform different arithmetic operations. These functions are divided into 3 parts.\n",
    "\n",
    "> A. Basic Functions\n",
    "    > 1. min(x) : Used to find the minimum value in the array(x)\n",
    "    > 2. max(x) : Used to find the maximum value \n",
    "    > 3. argmin(x) : Used to find the index of minimum value\n",
    "    > 4. argmax(x) : Used to find the index of maximum value\n",
    "    > 5. sqrt(x) : Used to find the square root of the array\n",
    "    > 6. cumsum(x) : Used to find the cummutative sum\n",
    "\n",
    "> B. Trigonometric Functions:\n",
    "    > 1. sin(x) : Computes the sine of an angle\n",
    "    > 2. cos(x) : Computes the cosine of an angle\n",
    "    > 3. tan(x) : Computes the tangent of an angle\n",
    "    > 4. arcsin(x) : Computes the inverse of sine\n",
    "    > 5. arccos(x) : Computes the inverse of cosine\n",
    "    > 6. arctan(x) : Computes the inverse of tangent\n",
    "    > 7. degrees(x) : Converts an angle in radians to degrees\n",
    "    > 8. radians(x) : Converts an angle in degrees to radians\n",
    "    \n",
    "> C. Rounding Functions:\n",
    "    > 1. round(x, p): returns the value rounded to the desired precision (p)\n",
    "    > 2. floor(x) : returns the values of array down to the nearest integer that is less than each element\n",
    "    > 3. ceil(x) : returns the values of array up to the nearest integer that is greater than each element"
   ]
  },
  {
   "cell_type": "markdown",
   "id": "d5b6e09f",
   "metadata": {},
   "source": [
    "## A. Basic Functions"
   ]
  },
  {
   "cell_type": "code",
   "execution_count": 2,
   "id": "09a85486",
   "metadata": {},
   "outputs": [
    {
     "name": "stdout",
     "output_type": "stream",
     "text": [
      "Min:  0\n",
      "Max:  9\n",
      "Min Index:  5\n",
      "max Index:  3\n",
      "SQRT:  [2.23606798 1.         2.         3.         1.73205081 0.        ]\n",
      "CUMSUM:  [ 5  6 10 19 22 22]\n"
     ]
    }
   ],
   "source": [
    "import numpy as np\n",
    "\n",
    "arr = np.array([5, 1, 4, 9, 3, 0])\n",
    "\n",
    "print(\"Min: \",np.min(arr))\n",
    "print(\"Max: \",np.max(arr))\n",
    "print(\"Min Index: \",np.argmin(arr))\n",
    "print(\"max Index: \",np.argmax(arr))\n",
    "print(\"SQRT: \",np.sqrt(arr))\n",
    "print(\"CUMSUM: \", np.cumsum(arr))"
   ]
  },
  {
   "cell_type": "code",
   "execution_count": 5,
   "id": "279009b3",
   "metadata": {},
   "outputs": [
    {
     "name": "stdout",
     "output_type": "stream",
     "text": [
      "Min:  0\n",
      "Max:  9\n",
      "Min Index:  5\n",
      "max Index:  3\n",
      "\n",
      "Min:  [5 1 0]\n",
      "Min Index:  [0 0 1]\n",
      "\n",
      "Min:  [1 0]\n",
      "Min Index:  [1 2]\n",
      "\n",
      "Max:  [9 3 4]\n",
      "Max Index:  [1 1 0]\n",
      "\n",
      "Max:  [5 9]\n",
      "Max Index:  [0 0]\n"
     ]
    }
   ],
   "source": [
    "arr = np.array([[5, 1, 4], [9, 3, 0]])\n",
    "\n",
    "print(\"Min: \",np.min(arr))\n",
    "print(\"Max: \",np.max(arr))\n",
    "print(\"Min Index: \",np.argmin(arr))\n",
    "print(\"max Index: \",np.argmax(arr))\n",
    "\n",
    "print()\n",
    "print(\"Min: \", np.min(arr, axis=0))\n",
    "print(\"Min Index: \", np.argmin(arr, axis = 0))\n",
    "\n",
    "print()\n",
    "print(\"Min: \", np.min(arr, axis=1))\n",
    "print(\"Min Index: \", np.argmin(arr, axis = 1))\n",
    "\n",
    "print()\n",
    "print(\"Max: \", np.max(arr, axis=0))\n",
    "print(\"Max Index: \", np.argmax(arr, axis = 0))\n",
    "\n",
    "print()\n",
    "print(\"Max: \", np.max(arr, axis=1))\n",
    "print(\"Max Index: \", np.argmax(arr, axis = 1))\n",
    "\n",
    "# axis = 0 : column\n",
    "# axis = 1 : row"
   ]
  },
  {
   "cell_type": "markdown",
   "id": "26e7738e",
   "metadata": {},
   "source": [
    "## B. Trigonometric Functions"
   ]
  },
  {
   "cell_type": "code",
   "execution_count": 6,
   "id": "accc4b96",
   "metadata": {},
   "outputs": [
    {
     "name": "stdout",
     "output_type": "stream",
     "text": [
      "Sin:  [-0.95892427  0.84147098 -0.7568025   0.41211849  0.14112001  0.        ]\n",
      "Cos:  [ 0.28366219  0.54030231 -0.65364362 -0.91113026 -0.9899925   1.        ]\n",
      "Tan:  [-3.38051501  1.55740772  1.15782128 -0.45231566 -0.14254654  0.        ]\n",
      "Inverse Sin:  [       nan 1.57079633        nan        nan        nan 0.        ]\n",
      "Inverse Cos:  [       nan 0.                nan        nan        nan 1.57079633]\n",
      "Inverse Tan:  [1.37340077 0.78539816 1.32581766 1.46013911 1.24904577 0.        ]\n",
      "Degrees:  [286.47889757  57.29577951 229.18311805 515.66201562 171.88733854\n",
      "   0.        ]\n",
      "Radians:  [0.08726646 0.01745329 0.06981317 0.15707963 0.05235988 0.        ]\n"
     ]
    },
    {
     "name": "stderr",
     "output_type": "stream",
     "text": [
      "C:\\Users\\nirja\\AppData\\Local\\Temp\\ipykernel_11008\\4016844715.py:6: RuntimeWarning: invalid value encountered in arcsin\n",
      "  print(\"Inverse Sin: \", np.arcsin(arr))\n",
      "C:\\Users\\nirja\\AppData\\Local\\Temp\\ipykernel_11008\\4016844715.py:7: RuntimeWarning: invalid value encountered in arccos\n",
      "  print(\"Inverse Cos: \", np.arccos(arr))\n"
     ]
    }
   ],
   "source": [
    "arr = np.array([5, 1, 4, 9, 3, 0])\n",
    "\n",
    "print(\"Sin: \", np.sin(arr))\n",
    "print(\"Cos: \", np.cos(arr))\n",
    "print(\"Tan: \", np.tan(arr))\n",
    "print(\"Inverse Sin: \", np.arcsin(arr))\n",
    "print(\"Inverse Cos: \", np.arccos(arr))\n",
    "print(\"Inverse Tan: \", np.arctan(arr))\n",
    "print(\"Degrees: \", np.degrees(arr))\n",
    "print(\"Radians: \", np.radians(arr))"
   ]
  },
  {
   "cell_type": "markdown",
   "id": "8eab27e3",
   "metadata": {},
   "source": [
    "## C. Rounding Functions"
   ]
  },
  {
   "cell_type": "code",
   "execution_count": 7,
   "id": "31f06970",
   "metadata": {},
   "outputs": [
    {
     "name": "stdout",
     "output_type": "stream",
     "text": [
      "Round2:  [  1.57   2.43  89.03   7.86 -18.64]\n",
      "Round5:  [  1.5679    2.42639  89.02787   7.8579  -18.64135]\n",
      "Floor :  [  1.   2.  89.   7. -19.]\n",
      "Ceil  :  [  2.   3.  90.   8. -18.]\n"
     ]
    }
   ],
   "source": [
    "arr = np.array([1.567895673, 2.42639218, 89.027868, 7.857898, -18.641354])\n",
    "\n",
    "print(\"Round2: \", np.round(arr,2))\n",
    "print(\"Round5: \", np.round(arr,5))\n",
    "print(\"Floor : \", np.floor(arr))\n",
    "print(\"Ceil  : \", np.ceil(arr))"
   ]
  }
 ],
 "metadata": {
  "kernelspec": {
   "display_name": "Python 3 (ipykernel)",
   "language": "python",
   "name": "python3"
  },
  "language_info": {
   "codemirror_mode": {
    "name": "ipython",
    "version": 3
   },
   "file_extension": ".py",
   "mimetype": "text/x-python",
   "name": "python",
   "nbconvert_exporter": "python",
   "pygments_lexer": "ipython3",
   "version": "3.9.12"
  }
 },
 "nbformat": 4,
 "nbformat_minor": 5
}
