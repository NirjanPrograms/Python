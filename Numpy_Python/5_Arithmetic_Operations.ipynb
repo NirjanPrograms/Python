{
 "cells": [
  {
   "cell_type": "markdown",
   "id": "307fbec5",
   "metadata": {},
   "source": [
    "# Arithmetic Operations on NumPy\n",
    "\n",
    "NumPy provides a wide range of operations that can perform on arrays, including arithmetic operations. NumPy's arithmetic operations are widely used due to their ability to perform simple and efficient calculations on arrays.\n",
    "\n",
    "\n",
    "Here's a list of various arithmetic operations along with their associated operators and built-in functions:\n",
    "\n",
    "Operation (Operator): Function\n",
    "---------------------------------------------\n",
    "> Addition (+) : np.add(a,b)                          \n",
    "> Subtraction (-) : np.sub(a,b)                               \n",
    "> Multiply (\\*) : np.multiply(a,b)                               \n",
    "> Divide (/) : np.divide(a,b)                           \n",
    "> Modulus (%) : np.mod(a,b)                             \n",
    "> Power (\\*\\*) : np.power(a,b)                                 \n",
    "> Reciprocal (1/a) : np.reciprocal(a)                             "
   ]
  },
  {
   "cell_type": "markdown",
   "id": "9312ce8f",
   "metadata": {},
   "source": [
    "## Addition"
   ]
  },
  {
   "cell_type": "code",
   "execution_count": 9,
   "id": "32541919",
   "metadata": {},
   "outputs": [
    {
     "name": "stdout",
     "output_type": "stream",
     "text": [
      "[3 4 5 6 7]\n",
      "[ 3  5 12  9 12]\n",
      "[ 3  5 12  9 12]\n"
     ]
    }
   ],
   "source": [
    "import numpy as np\n",
    "arr1 = np.array([1,2,3,4,5])\n",
    "arr2 = np.array([2,3,9,5,7])\n",
    "\n",
    "#Using the Addition \n",
    "res1 = arr1 + 2\n",
    "print(res1)\n",
    "\n",
    "res1 = arr1 + arr2\n",
    "print(res1)\n",
    "\n",
    "#using the function\n",
    "res2 = np.add(arr1, arr2)\n",
    "print(res2)"
   ]
  },
  {
   "cell_type": "markdown",
   "id": "410b08df",
   "metadata": {},
   "source": [
    "## Subtraction"
   ]
  },
  {
   "cell_type": "code",
   "execution_count": 10,
   "id": "b6484f89",
   "metadata": {},
   "outputs": [
    {
     "name": "stdout",
     "output_type": "stream",
     "text": [
      "[-1  0  1  2  3]\n",
      "[-1 -1 -6 -1 -2]\n",
      "[-1 -1 -6 -1 -2]\n"
     ]
    }
   ],
   "source": [
    "#Using the Addition \n",
    "res1 = arr1 - 2\n",
    "print(res1)\n",
    "\n",
    "res1 = arr1 - arr2\n",
    "print(res1)\n",
    "\n",
    "#using the function\n",
    "res2 = np.subtract(arr1, arr2)\n",
    "print(res2)"
   ]
  },
  {
   "cell_type": "markdown",
   "id": "776ac7a9",
   "metadata": {},
   "source": [
    "## Multiply"
   ]
  },
  {
   "cell_type": "code",
   "execution_count": 11,
   "id": "2d46ce6e",
   "metadata": {},
   "outputs": [
    {
     "name": "stdout",
     "output_type": "stream",
     "text": [
      "[ 2  4  6  8 10]\n",
      "[ 2  6 27 20 35]\n",
      "[ 2  6 27 20 35]\n"
     ]
    }
   ],
   "source": [
    "#Using the Addition \n",
    "res1 = arr1 * 2\n",
    "print(res1)\n",
    "\n",
    "res1 = arr1 * arr2\n",
    "print(res1)\n",
    "\n",
    "#using the function\n",
    "res2 = np.multiply(arr1, arr2)\n",
    "print(res2)"
   ]
  },
  {
   "cell_type": "markdown",
   "id": "17dc15a1",
   "metadata": {},
   "source": [
    "## Divide"
   ]
  },
  {
   "cell_type": "code",
   "execution_count": 12,
   "id": "60953e19",
   "metadata": {},
   "outputs": [
    {
     "name": "stdout",
     "output_type": "stream",
     "text": [
      "[0.5 1.  1.5 2.  2.5]\n",
      "[0.5        0.66666667 0.33333333 0.8        0.71428571]\n",
      "[0.5        0.66666667 0.33333333 0.8        0.71428571]\n"
     ]
    }
   ],
   "source": [
    "#Using the Addition \n",
    "res1 = arr1 / 2\n",
    "print(res1)\n",
    "\n",
    "res1 = arr1 / arr2\n",
    "print(res1)\n",
    "\n",
    "#using the function\n",
    "res2 = np.divide(arr1, arr2)\n",
    "print(res2)"
   ]
  },
  {
   "cell_type": "markdown",
   "id": "69455245",
   "metadata": {},
   "source": [
    "## Modulus"
   ]
  },
  {
   "cell_type": "code",
   "execution_count": 13,
   "id": "e99dac51",
   "metadata": {},
   "outputs": [
    {
     "name": "stdout",
     "output_type": "stream",
     "text": [
      "[1 0 1 0 1]\n",
      "[1 2 3 4 5]\n",
      "[1 2 3 4 5]\n"
     ]
    }
   ],
   "source": [
    "#Using the Addition \n",
    "res1 = arr1 % 2\n",
    "print(res1)\n",
    "\n",
    "res1 = arr1 % arr2\n",
    "print(res1)\n",
    "\n",
    "#using the function\n",
    "res2 = np.mod(arr1, arr2)\n",
    "print(res2)"
   ]
  },
  {
   "cell_type": "markdown",
   "id": "a5c2b1bf",
   "metadata": {},
   "source": [
    "## Power"
   ]
  },
  {
   "cell_type": "code",
   "execution_count": 14,
   "id": "60293229",
   "metadata": {},
   "outputs": [
    {
     "name": "stdout",
     "output_type": "stream",
     "text": [
      "[ 1  4  9 16 25]\n",
      "[    1     8 19683  1024 78125]\n",
      "[    1     8 19683  1024 78125]\n"
     ]
    }
   ],
   "source": [
    "#Using the Addition \n",
    "res1 = arr1 ** 2\n",
    "print(res1)\n",
    "\n",
    "res1 = arr1 ** arr2\n",
    "print(res1)\n",
    "\n",
    "#using the function\n",
    "res2 = np.power(arr1, arr2)\n",
    "print(res2)"
   ]
  },
  {
   "cell_type": "markdown",
   "id": "3b1409c0",
   "metadata": {},
   "source": [
    "## Reciprocal"
   ]
  },
  {
   "cell_type": "code",
   "execution_count": 15,
   "id": "349349c6",
   "metadata": {},
   "outputs": [
    {
     "name": "stdout",
     "output_type": "stream",
     "text": [
      "[1.         0.5        0.33333333 0.25       0.2       ]\n",
      "[1 0 0 0 0]\n"
     ]
    }
   ],
   "source": [
    "#Using the Addition \n",
    "res1 = 1/arr1\n",
    "print(res1)\n",
    "\n",
    "#using the function\n",
    "res2 = np.reciprocal(arr1)\n",
    "print(res2)"
   ]
  }
 ],
 "metadata": {
  "kernelspec": {
   "display_name": "Python 3 (ipykernel)",
   "language": "python",
   "name": "python3"
  },
  "language_info": {
   "codemirror_mode": {
    "name": "ipython",
    "version": 3
   },
   "file_extension": ".py",
   "mimetype": "text/x-python",
   "name": "python",
   "nbconvert_exporter": "python",
   "pygments_lexer": "ipython3",
   "version": "3.9.12"
  }
 },
 "nbformat": 4,
 "nbformat_minor": 5
}
