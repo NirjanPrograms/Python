{
 "cells": [
  {
   "cell_type": "markdown",
   "id": "4261ca77",
   "metadata": {},
   "source": [
    "# Array Indexing\n",
    "\n",
    "Array indexing is the same as accessing an array element. You can access an array element by referring to its index number."
   ]
  },
  {
   "cell_type": "markdown",
   "id": "15a31a93",
   "metadata": {},
   "source": [
    "## 1D Array"
   ]
  },
  {
   "cell_type": "code",
   "execution_count": 7,
   "id": "c303e734",
   "metadata": {},
   "outputs": [
    {
     "name": "stdout",
     "output_type": "stream",
     "text": [
      "[1 2 3 4]\n",
      "1\n",
      "3\n"
     ]
    },
    {
     "ename": "IndexError",
     "evalue": "index 5 is out of bounds for axis 0 with size 4",
     "output_type": "error",
     "traceback": [
      "\u001b[1;31m---------------------------------------------------------------------------\u001b[0m",
      "\u001b[1;31mIndexError\u001b[0m                                Traceback (most recent call last)",
      "Input \u001b[1;32mIn [7]\u001b[0m, in \u001b[0;36m<cell line: 9>\u001b[1;34m()\u001b[0m\n\u001b[0;32m      7\u001b[0m \u001b[38;5;28mprint\u001b[39m(arr1[\u001b[38;5;241m0\u001b[39m])\n\u001b[0;32m      8\u001b[0m \u001b[38;5;28mprint\u001b[39m(arr1[\u001b[38;5;241m-\u001b[39m\u001b[38;5;241m2\u001b[39m])\n\u001b[1;32m----> 9\u001b[0m \u001b[38;5;28mprint\u001b[39m(\u001b[43marr1\u001b[49m\u001b[43m[\u001b[49m\u001b[38;5;241;43m5\u001b[39;49m\u001b[43m]\u001b[49m)\n",
      "\u001b[1;31mIndexError\u001b[0m: index 5 is out of bounds for axis 0 with size 4"
     ]
    }
   ],
   "source": [
    "import numpy as np\n",
    "\n",
    "arr1 = np.array([1, 2, 3, 4])\n",
    "#               0  1  2  3   <- Positive Indexing\n",
    "#              -4 -3 -2 -1   <- Negative Indexing\n",
    "print(arr1)\n",
    "print(arr1[0])\n",
    "print(arr1[-2])\n",
    "print(arr1[5])"
   ]
  },
  {
   "cell_type": "markdown",
   "id": "e044a1cd",
   "metadata": {},
   "source": [
    "## 2D Array"
   ]
  },
  {
   "cell_type": "code",
   "execution_count": 8,
   "id": "53aba83f",
   "metadata": {},
   "outputs": [
    {
     "name": "stdout",
     "output_type": "stream",
     "text": [
      "[[1 2 3 4]\n",
      " [3 4 5 6]]\n",
      "\n",
      "[3 4 5 6]\n",
      "4\n",
      "4\n",
      "3\n"
     ]
    },
    {
     "ename": "IndexError",
     "evalue": "index 5 is out of bounds for axis 0 with size 2",
     "output_type": "error",
     "traceback": [
      "\u001b[1;31m---------------------------------------------------------------------------\u001b[0m",
      "\u001b[1;31mIndexError\u001b[0m                                Traceback (most recent call last)",
      "Input \u001b[1;32mIn [8]\u001b[0m, in \u001b[0;36m<cell line: 9>\u001b[1;34m()\u001b[0m\n\u001b[0;32m      7\u001b[0m \u001b[38;5;28mprint\u001b[39m(arr2[\u001b[38;5;241m0\u001b[39m, \u001b[38;5;241m3\u001b[39m]) \u001b[38;5;66;03m#4\u001b[39;00m\n\u001b[0;32m      8\u001b[0m \u001b[38;5;28mprint\u001b[39m(arr2[\u001b[38;5;241m1\u001b[39m, \u001b[38;5;241m0\u001b[39m]) \u001b[38;5;66;03m#3\u001b[39;00m\n\u001b[1;32m----> 9\u001b[0m \u001b[38;5;28mprint\u001b[39m(\u001b[43marr2\u001b[49m\u001b[43m[\u001b[49m\u001b[38;5;241;43m5\u001b[39;49m\u001b[43m,\u001b[49m\u001b[43m \u001b[49m\u001b[38;5;241;43m0\u001b[39;49m\u001b[43m]\u001b[49m)\n",
      "\u001b[1;31mIndexError\u001b[0m: index 5 is out of bounds for axis 0 with size 2"
     ]
    }
   ],
   "source": [
    "arr2 = np.array([ [1,2,3,4], [3,4,5,6] ])\n",
    "print(arr2)\n",
    "print()\n",
    "\n",
    "print(arr2[1])\n",
    "print(arr2[0][3]) #4\n",
    "print(arr2[0, 3]) #4\n",
    "print(arr2[1, 0]) #3\n",
    "print(arr2[5, 0]) #Error"
   ]
  },
  {
   "cell_type": "markdown",
   "id": "89efdd6f",
   "metadata": {},
   "source": [
    "## 3D Array"
   ]
  },
  {
   "cell_type": "code",
   "execution_count": 9,
   "id": "55b2e043",
   "metadata": {},
   "outputs": [
    {
     "name": "stdout",
     "output_type": "stream",
     "text": [
      "[[[ 1  2  3]\n",
      "  [ 4  5  6]]\n",
      "\n",
      " [[ 7  8  9]\n",
      "  [10 11 12]]]\n",
      "\n",
      "[[1 2 3]\n",
      " [4 5 6]]\n",
      "\n",
      "[4 5 6]\n",
      "\n",
      "5\n",
      "9\n"
     ]
    }
   ],
   "source": [
    "arr3 = np.array([[[1,2,3], [4,5,6]], [[7,8,9],[10,11,12]]])\n",
    "print(arr3)\n",
    "\n",
    "print()\n",
    "print(arr3[0])\n",
    "\n",
    "print()\n",
    "print(arr3[0,1])\n",
    "\n",
    "print()\n",
    "print(arr3[0,1,1]) #5\n",
    "print(arr3[1,0,2]) #9"
   ]
  },
  {
   "cell_type": "markdown",
   "id": "050d8ace",
   "metadata": {},
   "source": [
    "# Array Slicing\n",
    "\n",
    "Slicing in python means taking elements from one given index to another given index."
   ]
  },
  {
   "cell_type": "markdown",
   "id": "fa479225",
   "metadata": {},
   "source": [
    "## 1D Array"
   ]
  },
  {
   "cell_type": "code",
   "execution_count": 10,
   "id": "fe0a9bc1",
   "metadata": {},
   "outputs": [
    {
     "name": "stdout",
     "output_type": "stream",
     "text": [
      "['A' 'B' 'C' 'D' 'E' 'F' 'G']\n",
      "\n"
     ]
    }
   ],
   "source": [
    "arr1 = np.array(['A', 'B', 'C', 'D', 'E', 'F', 'G'])\n",
    "#                 0    1    2    3    4    5    6\n",
    "print(arr1)\n",
    "print()"
   ]
  },
  {
   "cell_type": "markdown",
   "id": "79d56f19",
   "metadata": {},
   "source": [
    "For slicing we use 3 arguments, which are separated by collon(:) -> \n",
    "arg1: start index[Optional](by default=0), arg2: end index[Optional](by default=len(array)), arg3: step size[Optional](by default=1)"
   ]
  },
  {
   "cell_type": "markdown",
   "id": "27215a52",
   "metadata": {},
   "source": [
    "### Positive Slicing"
   ]
  },
  {
   "cell_type": "code",
   "execution_count": 11,
   "id": "e44a177b",
   "metadata": {},
   "outputs": [
    {
     "name": "stdout",
     "output_type": "stream",
     "text": [
      "'B' to 'E':  ['B' 'C' 'D' 'E']\n",
      "\n",
      "'B' to End :  ['B' 'C' 'D' 'E' 'F' 'G']\n",
      "\n",
      "Start to 'F':  ['A' 'B' 'C' 'D' 'E' 'F']\n",
      "\n",
      "['A' 'B' 'C' 'D' 'E' 'F' 'G']\n",
      "\n",
      "['A' 'C' 'E' 'G']\n",
      "\n",
      "['B' 'D' 'F']\n"
     ]
    }
   ],
   "source": [
    "print(\"'B' to 'E': \",arr1[1:5])\n",
    "\n",
    "print()\n",
    "print(\"'B' to End : \", arr1[1:])\n",
    "\n",
    "print()\n",
    "print(\"Start to 'F': \", arr1[:6])\n",
    "\n",
    "print()\n",
    "print(arr1[:])\n",
    "\n",
    "print()\n",
    "print(arr1[::2])\n",
    "\n",
    "print()\n",
    "print(arr1[1:6:2])"
   ]
  },
  {
   "cell_type": "markdown",
   "id": "562dbe49",
   "metadata": {},
   "source": [
    "### Negative Slicing"
   ]
  },
  {
   "cell_type": "code",
   "execution_count": 12,
   "id": "f1ac0e4d",
   "metadata": {},
   "outputs": [
    {
     "name": "stdout",
     "output_type": "stream",
     "text": [
      "'B' to 'E':  ['B' 'C' 'D' 'E']\n",
      "\n",
      "'B' to End :  ['B' 'C' 'D' 'E' 'F' 'G']\n",
      "\n",
      "Start to 'F':  ['A' 'B' 'C' 'D' 'E' 'F']\n",
      "\n",
      "[]\n",
      "\n",
      "['B' 'D' 'F']\n"
     ]
    }
   ],
   "source": [
    "print(\"'B' to 'E': \",arr1[-6:-2])\n",
    "\n",
    "print()\n",
    "print(\"'B' to End : \", arr1[-6:])\n",
    "\n",
    "print()\n",
    "print(\"Start to 'F': \", arr1[:-1])\n",
    "\n",
    "print()\n",
    "print(arr1[-1:-7])  #Invalid Operation\n",
    "\n",
    "print()\n",
    "print(arr1[-6:-1:2])"
   ]
  },
  {
   "cell_type": "markdown",
   "id": "85ad332a",
   "metadata": {},
   "source": [
    "## 2D Array"
   ]
  },
  {
   "cell_type": "code",
   "execution_count": 13,
   "id": "dacae44a",
   "metadata": {},
   "outputs": [
    {
     "name": "stdout",
     "output_type": "stream",
     "text": [
      "[[ 1  2  3  4  5]\n",
      " [ 6  7  8  9 10]]\n",
      "\n",
      "[ 7  8  9 10]\n",
      "\n",
      "[5]\n",
      "\n",
      "[3 8]\n",
      "\n"
     ]
    },
    {
     "ename": "IndexError",
     "evalue": "too many indices for array: array is 2-dimensional, but 3 were indexed",
     "output_type": "error",
     "traceback": [
      "\u001b[1;31m---------------------------------------------------------------------------\u001b[0m",
      "\u001b[1;31mIndexError\u001b[0m                                Traceback (most recent call last)",
      "Input \u001b[1;32mIn [13]\u001b[0m, in \u001b[0;36m<cell line: 14>\u001b[1;34m()\u001b[0m\n\u001b[0;32m     11\u001b[0m \u001b[38;5;28mprint\u001b[39m(arr2[\u001b[38;5;241m0\u001b[39m:\u001b[38;5;241m2\u001b[39m,\u001b[38;5;241m2\u001b[39m])\n\u001b[0;32m     13\u001b[0m \u001b[38;5;28mprint\u001b[39m()\n\u001b[1;32m---> 14\u001b[0m \u001b[38;5;28mprint\u001b[39m(\u001b[43marr2\u001b[49m\u001b[43m[\u001b[49m\u001b[38;5;241;43m0\u001b[39;49m\u001b[43m,\u001b[49m\u001b[38;5;241;43m1\u001b[39;49m\u001b[43m:\u001b[49m\u001b[38;5;241;43m1\u001b[39;49m\u001b[43m,\u001b[49m\u001b[38;5;241;43m4\u001b[39;49m\u001b[43m]\u001b[49m)\n",
      "\u001b[1;31mIndexError\u001b[0m: too many indices for array: array is 2-dimensional, but 3 were indexed"
     ]
    }
   ],
   "source": [
    "arr2 = np.array([[1,2,3,4,5],[6,7,8,9,10]])\n",
    "print(arr2)\n",
    "\n",
    "print()\n",
    "print(arr2[1,1:])\n",
    "\n",
    "print()\n",
    "print(arr2[:1,4])\n",
    "\n",
    "print()\n",
    "print(arr2[0:2,2])\n",
    "\n",
    "print()\n",
    "print(arr2[0,1:1,4])   #Error"
   ]
  }
 ],
 "metadata": {
  "kernelspec": {
   "display_name": "Python 3 (ipykernel)",
   "language": "python",
   "name": "python3"
  },
  "language_info": {
   "codemirror_mode": {
    "name": "ipython",
    "version": 3
   },
   "file_extension": ".py",
   "mimetype": "text/x-python",
   "name": "python",
   "nbconvert_exporter": "python",
   "pygments_lexer": "ipython3",
   "version": "3.9.12"
  }
 },
 "nbformat": 4,
 "nbformat_minor": 5
}
