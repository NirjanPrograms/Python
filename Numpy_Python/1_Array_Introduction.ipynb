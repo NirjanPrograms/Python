{
 "cells": [
  {
   "cell_type": "markdown",
   "id": "3df1dd8f",
   "metadata": {},
   "source": [
    "# Brief details about List in Python\n",
    "\n",
    "List is a data type in python, which can holds multiple values in a single variable. \n",
    "List can stores multiple values of different data type into that variable"
   ]
  },
  {
   "cell_type": "code",
   "execution_count": 1,
   "id": "cc123567",
   "metadata": {},
   "outputs": [
    {
     "name": "stdout",
     "output_type": "stream",
     "text": [
      "[1, 2, 3, 4]\n",
      "<class 'list'>\n"
     ]
    }
   ],
   "source": [
    "list = [1,2,3,4]\n",
    "print(list)\n",
    "print(type(list))"
   ]
  },
  {
   "cell_type": "markdown",
   "id": "ceb82f4a",
   "metadata": {},
   "source": [
    "# Introduction to Numpy\n",
    "\n",
    "Numpy is a package in python which are used to manipulate numpy arrays in python. "
   ]
  },
  {
   "cell_type": "code",
   "execution_count": 3,
   "id": "25119573",
   "metadata": {},
   "outputs": [],
   "source": [
    "import numpy as np"
   ]
  },
  {
   "cell_type": "markdown",
   "id": "e3cf4720",
   "metadata": {},
   "source": [
    "# Numpy Array\n",
    "\n",
    "Numpy array can holds multiple values of same data type\n",
    "Numpy array method declaration: \n",
    "    array(arg1: list or integer type [required], arg2: ndmin [optional])\n",
    "    \n",
    "If a list contains values of different data types then it automatically convert all elements into string data type and store into the array."
   ]
  },
  {
   "cell_type": "markdown",
   "id": "1cb3d1a3",
   "metadata": {},
   "source": [
    "## 1 Dimension Array Initialization"
   ]
  },
  {
   "cell_type": "code",
   "execution_count": 4,
   "id": "b7ae2350",
   "metadata": {},
   "outputs": [
    {
     "name": "stdout",
     "output_type": "stream",
     "text": [
      "[1 2 3 4]\n",
      "<class 'numpy.ndarray'>\n",
      "1\n"
     ]
    }
   ],
   "source": [
    "arr = np.array([1,2,3,4])\n",
    "print(arr)\n",
    "print(type(arr))\n",
    "print(arr.ndim)"
   ]
  },
  {
   "cell_type": "code",
   "execution_count": 5,
   "id": "f58ca689",
   "metadata": {},
   "outputs": [
    {
     "name": "stdout",
     "output_type": "stream",
     "text": [
      "[1, 'Hello', 2, 4, 'World']\n",
      "['1' 'Hello' '2' '4' 'World']\n"
     ]
    }
   ],
   "source": [
    "list = [1, \"Hello\", 2, 4, \"World\"]\n",
    "arr = np.array(list)\n",
    "print(list)\n",
    "print(arr)"
   ]
  },
  {
   "cell_type": "markdown",
   "id": "50d672d5",
   "metadata": {},
   "source": [
    "## 2 Dimension Array Initialization"
   ]
  },
  {
   "cell_type": "code",
   "execution_count": 6,
   "id": "87d4d7d9",
   "metadata": {},
   "outputs": [
    {
     "name": "stdout",
     "output_type": "stream",
     "text": [
      "[[1 2 3 4]\n",
      " [5 6 7 8]]\n",
      "2\n"
     ]
    }
   ],
   "source": [
    "arr2 = np.array([[1,2,3,4], [5,6,7,8]])\n",
    "print(arr2)\n",
    "print(arr2.ndim)"
   ]
  },
  {
   "cell_type": "markdown",
   "id": "d2887bb9",
   "metadata": {},
   "source": [
    "In 2 dimension array, if the number of elements are not equal in different rows, then python interpreter raise a warning and print the array into one dimension with the list."
   ]
  },
  {
   "cell_type": "code",
   "execution_count": 7,
   "id": "0ed80350",
   "metadata": {},
   "outputs": [
    {
     "name": "stdout",
     "output_type": "stream",
     "text": [
      "[list([1, 2, 3, 4]) list([5, 6, 7])]\n",
      "1\n"
     ]
    },
    {
     "name": "stderr",
     "output_type": "stream",
     "text": [
      "C:\\Users\\nirja\\AppData\\Local\\Temp\\ipykernel_18300\\3418247744.py:1: VisibleDeprecationWarning: Creating an ndarray from ragged nested sequences (which is a list-or-tuple of lists-or-tuples-or ndarrays with different lengths or shapes) is deprecated. If you meant to do this, you must specify 'dtype=object' when creating the ndarray.\n",
      "  arr3 = np.array([[1,2,3,4], [5,6,7]])\n"
     ]
    }
   ],
   "source": [
    "arr3 = np.array([[1,2,3,4], [5,6,7]])\n",
    "print(arr3)\n",
    "print(arr3.ndim)"
   ]
  },
  {
   "cell_type": "markdown",
   "id": "b84df000",
   "metadata": {},
   "source": [
    "## 3 Dimension Array Initialization"
   ]
  },
  {
   "cell_type": "code",
   "execution_count": 8,
   "id": "4d0f294d",
   "metadata": {},
   "outputs": [
    {
     "name": "stdout",
     "output_type": "stream",
     "text": [
      "[[[1 2 3 4]\n",
      "  [5 6 7 8]]\n",
      "\n",
      " [[5 6 7 8]\n",
      "  [1 2 3 4]]]\n",
      "3\n"
     ]
    }
   ],
   "source": [
    "arr4 = np.array([[[1,2,3,4],[5,6,7,8]],[[5,6,7,8],[1,2,3,4]]])\n",
    "print(arr4)\n",
    "print(arr4.ndim)"
   ]
  },
  {
   "cell_type": "markdown",
   "id": "25b4e531",
   "metadata": {},
   "source": [
    "## Multi Dimentional Array Initialization"
   ]
  },
  {
   "cell_type": "code",
   "execution_count": 9,
   "id": "4bec624f",
   "metadata": {},
   "outputs": [
    {
     "name": "stdout",
     "output_type": "stream",
     "text": [
      "5 Dimentional Array: \n",
      "[[[[[1 2 3 4]]]]]\n",
      "5\n",
      "\n",
      " 10 Dimentional Array: \n",
      "[[[[[[[[[['a' 'b' 'c' 'd']]]]]]]]]]\n",
      "10\n"
     ]
    }
   ],
   "source": [
    "# 5 Dimenstional Array\n",
    "print(\"5 Dimentional Array: \")\n",
    "arr5 = np.array([1,2,3,4], ndmin=5)\n",
    "print(arr5)\n",
    "print(arr5.ndim)\n",
    "\n",
    "print(\"\\n 10 Dimentional Array: \")\n",
    "#10 dimension array:\n",
    "arr6 = np.array(['a', 'b', 'c', 'd'], ndmin=10)\n",
    "print(arr6)\n",
    "print(arr6.ndim)"
   ]
  },
  {
   "cell_type": "markdown",
   "id": "dc891d8c",
   "metadata": {},
   "source": [
    "## 0 Dimentional Array\n",
    "\n",
    "arr7 is a 0 dimension array with the value of 42"
   ]
  },
  {
   "cell_type": "code",
   "execution_count": 10,
   "id": "6d612e25",
   "metadata": {},
   "outputs": [
    {
     "name": "stdout",
     "output_type": "stream",
     "text": [
      "42\n",
      "0\n"
     ]
    }
   ],
   "source": [
    "arr7 = np.array(42)\n",
    "print(arr7)\n",
    "print(arr7.ndim)"
   ]
  },
  {
   "cell_type": "markdown",
   "id": "d48e52ee",
   "metadata": {},
   "source": [
    "# Summary:"
   ]
  },
  {
   "cell_type": "code",
   "execution_count": 11,
   "id": "63ba9830",
   "metadata": {},
   "outputs": [
    {
     "name": "stdout",
     "output_type": "stream",
     "text": [
      "\n",
      " 0 Dimension Array:  42\n",
      "\n",
      " 1 Dimension Array:  ['1' 'Hello' '2' '4' 'World']\n",
      "\n",
      " 2 Dimension Array:  [[1 2 3 4]\n",
      " [5 6 7 8]]\n",
      "\n",
      " 3 Dimension Array:  [[[1 2 3 4]\n",
      "  [5 6 7 8]]\n",
      "\n",
      " [[5 6 7 8]\n",
      "  [1 2 3 4]]]\n",
      "\n",
      " 5 Dimension Array:  [[[[[1 2 3 4]]]]]\n",
      "\n",
      " 10 Dimension Array:  [[[[[[[[[['a' 'b' 'c' 'd']]]]]]]]]]\n"
     ]
    }
   ],
   "source": [
    "print(\"\\n 0 Dimension Array: \", arr7)\n",
    "print(\"\\n 1 Dimension Array: \", arr)\n",
    "print(\"\\n 2 Dimension Array: \", arr2)\n",
    "print(\"\\n 3 Dimension Array: \", arr4)\n",
    "print(\"\\n 5 Dimension Array: \", arr5)\n",
    "print(\"\\n 10 Dimension Array: \", arr6)"
   ]
  }
 ],
 "metadata": {
  "kernelspec": {
   "display_name": "Python 3 (ipykernel)",
   "language": "python",
   "name": "python3"
  },
  "language_info": {
   "codemirror_mode": {
    "name": "ipython",
    "version": 3
   },
   "file_extension": ".py",
   "mimetype": "text/x-python",
   "name": "python",
   "nbconvert_exporter": "python",
   "pygments_lexer": "ipython3",
   "version": "3.9.12"
  }
 },
 "nbformat": 4,
 "nbformat_minor": 5
}
