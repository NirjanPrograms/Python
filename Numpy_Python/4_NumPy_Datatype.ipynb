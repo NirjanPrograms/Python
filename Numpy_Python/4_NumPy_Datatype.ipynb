{
 "cells": [
  {
   "cell_type": "markdown",
   "metadata": {},
   "source": [
    "# Datatypes in NumPy"
   ]
  },
  {
   "cell_type": "markdown",
   "metadata": {},
   "source": [
    "Numpy has some extra data types, and refer to data types with one character, like i for integers, u for unsigned integers etc.\n",
    "Below is a list of all data types in NumPy and the characters used to represent them.\n",
    "\n",
    "> b - boolean                                           \n",
    "> i - integer                                \n",
    "> u - unsigned integer                         \n",
    "> f - float                                   \n",
    "> c - complex float                               \n",
    "> m - timedelta                                   \n",
    "> M - datetime                                  \n",
    "> O - object                                    \n",
    "> S - string                                            \n",
    "> U - unicode string                                          \n",
    "> V - fixed chunk of memory for other type ( void )\n",
    "\n",
    "\n",
    "For i, u, f, S and U we can define size as well.\n",
    "\n",
    "dtype   :               variants                 \n",
    "--------------------------------------------------\n",
    "> int      : int8, int16, int32, int64           \n",
    "> uint     : uint8, uint16, uint32, uint64         \n",
    "> bool     : bool                                 \n",
    "> float    : float16, float32, float64, float128                        \n",
    "> complex  : complex64, complex128, complex256   "
   ]
  },
  {
   "cell_type": "markdown",
   "metadata": {},
   "source": [
    "## Checking the datatype of an array"
   ]
  },
  {
   "cell_type": "code",
   "execution_count": 1,
   "metadata": {},
   "outputs": [
    {
     "name": "stdout",
     "output_type": "stream",
     "text": [
      "[1 2 3 4 5]\n",
      "Datatype:  int32\n"
     ]
    }
   ],
   "source": [
    "import numpy as np\n",
    "arr = np.array([1,2,3,4,5])\n",
    "print(arr)\n",
    "print(\"Datatype: \", arr.dtype)"
   ]
  },
  {
   "cell_type": "code",
   "execution_count": 4,
   "metadata": {},
   "outputs": [
    {
     "name": "stdout",
     "output_type": "stream",
     "text": [
      "[1.+2.j 2.+6.j 9.+0.j]\n",
      "Datatype:  complex128\n"
     ]
    }
   ],
   "source": [
    "arr = np.array([1+2j, 2+6j, 9-0j])\n",
    "print(arr)\n",
    "print(\"Datatype: \", arr.dtype)"
   ]
  },
  {
   "cell_type": "code",
   "execution_count": 28,
   "metadata": {},
   "outputs": [
    {
     "name": "stdout",
     "output_type": "stream",
     "text": [
      "['Hello' 'World' 'Good' 'Day']\n",
      "Datatype:  <U5\n"
     ]
    }
   ],
   "source": [
    "arr = np.array([\"Hello\", \"World\", \"Good\", \"Day\"])\n",
    "print(arr)\n",
    "print(\"Datatype: \", arr.dtype)"
   ]
  },
  {
   "cell_type": "code",
   "execution_count": 29,
   "metadata": {},
   "outputs": [
    {
     "name": "stdout",
     "output_type": "stream",
     "text": [
      "['Hello' 'World' 'Good' 'Day' '1' '2' '3']\n",
      "Datatype:  <U11\n"
     ]
    }
   ],
   "source": [
    "arr = np.array([\"Hello\", \"World\", \"Good\", \"Day\", 1, 2,3])\n",
    "print(arr)\n",
    "print(\"Datatype: \", arr.dtype)"
   ]
  },
  {
   "cell_type": "code",
   "execution_count": 30,
   "metadata": {},
   "outputs": [
    {
     "name": "stdout",
     "output_type": "stream",
     "text": [
      "['Hello' 'World' 'Good' 'Day' '1.36' '2.56']\n",
      "Datatype:  <U32\n"
     ]
    }
   ],
   "source": [
    "arr = np.array([\"Hello\", \"World\", \"Good\", \"Day\", 1.36, 2.56])\n",
    "print(arr)\n",
    "print(\"Datatype: \", arr.dtype)"
   ]
  },
  {
   "cell_type": "code",
   "execution_count": 31,
   "metadata": {},
   "outputs": [
    {
     "ename": "SyntaxError",
     "evalue": "invalid syntax (184257450.py, line 1)",
     "output_type": "error",
     "traceback": [
      "\u001b[1;36m  Input \u001b[1;32mIn [31]\u001b[1;36m\u001b[0m\n\u001b[1;33m    arr = np.array([\"Hello\", \"World\", \"Good\", \"Day\", 1+6i, 2-9i])\u001b[0m\n\u001b[1;37m                                                        ^\u001b[0m\n\u001b[1;31mSyntaxError\u001b[0m\u001b[1;31m:\u001b[0m invalid syntax\n"
     ]
    }
   ],
   "source": [
    "arr = np.array([\"Hello\", \"World\", \"Good\", \"Day\", 1+6i, 2-9i])\n",
    "print(arr)\n",
    "print(\"Datatype: \", arr.dtype)"
   ]
  },
  {
   "cell_type": "markdown",
   "metadata": {},
   "source": [
    "## Change datatype of an array"
   ]
  },
  {
   "cell_type": "code",
   "execution_count": 10,
   "metadata": {},
   "outputs": [
    {
     "name": "stdout",
     "output_type": "stream",
     "text": [
      "[1 2 3 4 5]\n",
      "Datatype:  int8\n"
     ]
    }
   ],
   "source": [
    "arr = np.array([1,2,3,4,5], dtype = np.int8)\n",
    "print(arr)\n",
    "print(\"Datatype: \", arr.dtype)"
   ]
  },
  {
   "cell_type": "code",
   "execution_count": 11,
   "metadata": {},
   "outputs": [
    {
     "name": "stdout",
     "output_type": "stream",
     "text": [
      "[1. 2. 3. 4. 5.]\n",
      "Datatype:  float32\n"
     ]
    }
   ],
   "source": [
    "arr = np.array([1,2,3,4,5], dtype = \"f\")\n",
    "print(arr)\n",
    "print(\"Datatype: \", arr.dtype)"
   ]
  },
  {
   "cell_type": "code",
   "execution_count": 16,
   "metadata": {},
   "outputs": [
    {
     "name": "stdout",
     "output_type": "stream",
     "text": [
      "[255 254 253   4   5]\n",
      "Datatype:  uint8\n"
     ]
    }
   ],
   "source": [
    "arr = np.array([-1,-2,-3,4,5], dtype = \"u1\")\n",
    "print(arr)\n",
    "print(\"Datatype: \", arr.dtype)"
   ]
  },
  {
   "cell_type": "code",
   "execution_count": 17,
   "metadata": {},
   "outputs": [
    {
     "name": "stdout",
     "output_type": "stream",
     "text": [
      "[65535 65534 65533     4     5]\n",
      "Datatype:  uint16\n"
     ]
    }
   ],
   "source": [
    "arr = np.array([-1,-2,-3,4,5], dtype = \"u2\")\n",
    "print(arr)\n",
    "print(\"Datatype: \", arr.dtype)"
   ]
  },
  {
   "cell_type": "code",
   "execution_count": 20,
   "metadata": {},
   "outputs": [
    {
     "name": "stdout",
     "output_type": "stream",
     "text": [
      "['-1' '-2' '-3' '4' '5' 'Hello']\n",
      "Datatype:  <U7\n"
     ]
    }
   ],
   "source": [
    "arr = np.array([-1,-2,-3,4,5, \"Hello\"], dtype = \"U7\")\n",
    "print(arr)\n",
    "print(\"Datatype: \", arr.dtype)"
   ]
  },
  {
   "cell_type": "markdown",
   "metadata": {},
   "source": [
    "## Changing Datatype of an array using function"
   ]
  },
  {
   "cell_type": "code",
   "execution_count": 25,
   "metadata": {},
   "outputs": [
    {
     "name": "stdout",
     "output_type": "stream",
     "text": [
      "[1 2 3 4 5]\n",
      "Datatype:  int32\n",
      "[1. 2. 3. 4. 5.]\n",
      "Datatype:  float64\n"
     ]
    }
   ],
   "source": [
    "arr = np.array([1,2,3,4,5])\n",
    "arr1 = arr.astype(float)\n",
    "print(arr)\n",
    "print(\"Datatype: \", arr.dtype)\n",
    "print(arr1)\n",
    "print(\"Datatype: \", arr1.dtype)"
   ]
  },
  {
   "cell_type": "code",
   "execution_count": 34,
   "metadata": {},
   "outputs": [
    {
     "name": "stdout",
     "output_type": "stream",
     "text": [
      "[1 2 3 4 5]\n",
      "Datatype:  int32\n",
      "[1 2 3 4 5]\n",
      "Datatype:  object\n"
     ]
    }
   ],
   "source": [
    "arr = np.array([1,2,3,4,5])\n",
    "arr1 = arr.astype(object)\n",
    "print(arr)\n",
    "print(\"Datatype: \", arr.dtype)\n",
    "print(arr1)\n",
    "print(\"Datatype: \", arr1.dtype)"
   ]
  },
  {
   "cell_type": "code",
   "execution_count": 26,
   "metadata": {},
   "outputs": [
    {
     "name": "stdout",
     "output_type": "stream",
     "text": [
      "[1 2 3 4 5]\n",
      "Datatype:  int32\n",
      "[1. 2. 3. 4. 5.]\n",
      "Datatype:  float32\n"
     ]
    }
   ],
   "source": [
    "arr = np.array([1,2,3,4,5])\n",
    "arr1 = np.float32(arr)\n",
    "print(arr)\n",
    "print(\"Datatype: \", arr.dtype)\n",
    "print(arr1)\n",
    "print(\"Datatype: \", arr1.dtype)"
   ]
  },
  {
   "cell_type": "code",
   "execution_count": 36,
   "metadata": {},
   "outputs": [
    {
     "name": "stdout",
     "output_type": "stream",
     "text": [
      "[-1 -2  3  4  5]\n",
      "Datatype:  int32\n",
      "[65535 65534     3     4     5]\n",
      "Datatype:  uint16\n"
     ]
    }
   ],
   "source": [
    "arr = np.array([-1,-2,3,4,5])\n",
    "arr1 = np.uint16(arr)\n",
    "print(arr)\n",
    "print(\"Datatype: \", arr.dtype)\n",
    "print(arr1)\n",
    "print(\"Datatype: \", arr1.dtype)"
   ]
  },
  {
   "cell_type": "code",
   "execution_count": 38,
   "metadata": {},
   "outputs": [
    {
     "name": "stdout",
     "output_type": "stream",
     "text": [
      "['1' '2' '3' '4' '5' 'hello']\n",
      "Datatype:  <U11\n"
     ]
    },
    {
     "ename": "ValueError",
     "evalue": "invalid literal for int() with base 10: 'hello'",
     "output_type": "error",
     "traceback": [
      "\u001b[1;31m---------------------------------------------------------------------------\u001b[0m",
      "\u001b[1;31mValueError\u001b[0m                                Traceback (most recent call last)",
      "Input \u001b[1;32mIn [38]\u001b[0m, in \u001b[0;36m<cell line: 5>\u001b[1;34m()\u001b[0m\n\u001b[0;32m      2\u001b[0m \u001b[38;5;28mprint\u001b[39m(arr)\n\u001b[0;32m      3\u001b[0m \u001b[38;5;28mprint\u001b[39m(\u001b[38;5;124m\"\u001b[39m\u001b[38;5;124mDatatype: \u001b[39m\u001b[38;5;124m\"\u001b[39m, arr\u001b[38;5;241m.\u001b[39mdtype)\n\u001b[1;32m----> 5\u001b[0m arr1 \u001b[38;5;241m=\u001b[39m \u001b[43mnp\u001b[49m\u001b[38;5;241;43m.\u001b[39;49m\u001b[43mint32\u001b[49m\u001b[43m(\u001b[49m\u001b[43marr\u001b[49m\u001b[43m)\u001b[49m\n\u001b[0;32m      6\u001b[0m \u001b[38;5;28mprint\u001b[39m(arr1)\n\u001b[0;32m      7\u001b[0m \u001b[38;5;28mprint\u001b[39m(\u001b[38;5;124m\"\u001b[39m\u001b[38;5;124mDatatype: \u001b[39m\u001b[38;5;124m\"\u001b[39m, arr1\u001b[38;5;241m.\u001b[39mdtype)\n",
      "\u001b[1;31mValueError\u001b[0m: invalid literal for int() with base 10: 'hello'"
     ]
    }
   ],
   "source": [
    "arr = np.array([1,2,3,4,5,\"hello\"])\n",
    "print(arr)\n",
    "print(\"Datatype: \", arr.dtype)\n",
    "\n",
    "arr1 = np.int32(arr)\n",
    "print(arr1)\n",
    "print(\"Datatype: \", arr1.dtype)"
   ]
  },
  {
   "cell_type": "markdown",
   "metadata": {},
   "source": [
    "If a type is given in which elements can not be casted then NumPy will raise a ValueError.                         \n",
    "ValueError: In Python ValueError is raised when the type of passed argument to a function is unexpected/incorrect.\n",
    "\n",
    "In the last example, the datatype of the array is UNICODE STRING. In that array, the last element is string type which can't converted into integer datatype due to loss of data. That's why NumPy raise ValueError."
   ]
  }
 ],
 "metadata": {
  "kernelspec": {
   "display_name": "Python 3 (ipykernel)",
   "language": "python",
   "name": "python3"
  },
  "language_info": {
   "codemirror_mode": {
    "name": "ipython",
    "version": 3
   },
   "file_extension": ".py",
   "mimetype": "text/x-python",
   "name": "python",
   "nbconvert_exporter": "python",
   "pygments_lexer": "ipython3",
   "version": "3.9.12"
  }
 },
 "nbformat": 4,
 "nbformat_minor": 2
}
